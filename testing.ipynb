{
  "cells": [
    {
      "cell_type": "markdown",
      "id": "b149d005",
      "metadata": {
        "colab_type": "text",
        "id": "view-in-github"
      },
      "source": [
        "<a href=\"https://colab.research.google.com/github/nicoRomeroCuruchet/DynamicProgramming/blob/main/testing_bary.ipynb\" target=\"_parent\"><img src=\"https://colab.research.google.com/assets/colab-badge.svg\" alt=\"Open In Colab\"/></a>"
      ]
    },
    {
      "cell_type": "code",
      "execution_count": null,
      "id": "002626e9",
      "metadata": {},
      "outputs": [],
      "source": [
        "import pickle\n",
        "import numpy as np\n",
        "from PolicyIteration import PolicyIteration\n",
        "from utils.utils import plot_2D_value_function,\\\n",
        "                        plot_3D_value_function,\\\n",
        "                        test_enviroment"
      ]
    },
    {
      "cell_type": "markdown",
      "id": "3c8fe4a4",
      "metadata": {},
      "source": [
        "# CartPoleEnv \n",
        "\n",
        "### Observation Space\n",
        "\n",
        "The observation is a `ndarray` with shape `(4,)` with the values corresponding to the following positions and velocities:\n",
        "\n",
        "| Num | Observation           | Min                 | Max               |\n",
        "|-----|-----------------------|---------------------|-------------------|\n",
        "| 0   | Cart Position         | -4.8                | 4.8               |\n",
        "| 1   | Cart Velocity         | -Inf                | Inf               |\n",
        "| 2   | Pole Angle            | ~ -0.418 rad (-24°) | ~ 0.418 rad (24°) |\n",
        "| 3   | Pole Angular Velocity | -Inf                | Inf               |\n",
        "\n",
        "### Action Space\n",
        "\n",
        "The action is a `ndarray` with shape `(1,)` which can take values `{0, 1}` indicating the direction\n",
        "of the fixed force the cart is pushed with.\n",
        "\n",
        "- 0: Push cart to the left\n",
        "- 1: Push cart to the right"
      ]
    },
    {
      "cell_type": "code",
      "execution_count": null,
      "id": "a1c04b7b",
      "metadata": {},
      "outputs": [],
      "source": [
        "# Train cartpole environment:\n",
        "from classic_control.cartpole import CartPoleEnv\n",
        "\n",
        "env = CartPoleEnv(sutton_barto_reward=True)\n",
        "# position thresholds:\n",
        "x_lim         = 2.4\n",
        "theta_lim     = 0.418 \n",
        "# velocity thresholds:\n",
        "x_dot_lim     = 3.1\n",
        "theta_dot_lim = 3.1\n",
        "\n",
        "bins_space = {\n",
        "    \"x_space\"         : np.linspace(-x_lim, x_lim, 10,  dtype=np.float32),                     # position space         (0)\n",
        "    \"x_dot_space\"     : np.linspace(-x_dot_lim, x_dot_lim, 7,  dtype=np.float32),              # velocity space         (1)\n",
        "    \"theta_space\"     : np.linspace(-theta_lim, theta_lim, 10, dtype=np.float32),              # angle space            (2)\n",
        "    \"theta_dot_space\" : np.linspace(-theta_dot_lim, theta_dot_lim, 7, dtype=np.float32),       # angular velocity space (3)\n",
        "}\n",
        "\n",
        "pi = PolicyIteration(\n",
        "    env=env, \n",
        "    bins_space=bins_space,\n",
        "    action_space=np.array([0, 1], dtype=np.int32),\n",
        "    gamma=0.99,\n",
        "    theta=1e-3\n",
        ")\n",
        "\n",
        "pi.run()"
      ]
    },
    {
      "cell_type": "code",
      "execution_count": null,
      "id": "0462a904",
      "metadata": {},
      "outputs": [],
      "source": [
        "# Test cartpole environment:\n",
        "\n",
        "with open(env.__class__.__name__ + \".pkl\", \"rb\") as f:\n",
        "    pi = pickle.load(f)\n",
        "\n",
        "test_enviroment(CartPoleEnv(sutton_barto_reward=True, render_mode=\"human\"), pi)"
      ]
    },
    {
      "cell_type": "markdown",
      "id": "063b6002",
      "metadata": {},
      "source": [
        "## Observation Space\n",
        "\n",
        "The observation is a `ndarray` with shape `(2,)` where the elements correspond to the following:\n",
        "\n",
        "| Num | Observation                          | Min   | Max  | Unit         |\n",
        "|-----|--------------------------------------|-------|------|--------------|\n",
        "| 0   | position of the car along the x-axis | -1.2  | 0.6  | position (m) |\n",
        "| 1   | velocity of the car                  | -0.07 | 0.07 | velocity (v) |\n",
        "\n",
        "## Action Space\n",
        "\n",
        "There are 3 discrete deterministic actions:\n",
        "\n",
        "- 0: Accelerate to the left\n",
        "- 1: Don't accelerate\n",
        "- 2: Accelerate to the right\n"
      ]
    },
    {
      "cell_type": "code",
      "execution_count": null,
      "id": "9d617686",
      "metadata": {},
      "outputs": [],
      "source": [
        "from classic_control.continuous_mountain_car import Continuous_MountainCarEnv\n",
        "\n",
        "env=Continuous_MountainCarEnv()\n",
        "\n",
        "bins_space = {\n",
        "    \"x_space\":     np.linspace(env.min_position, env.max_position, 100,      dtype=np.float32),    # position space    (0)\n",
        "    \"x_dot_space\": np.linspace(-abs(env.max_speed), abs(env.max_speed), 100, dtype=np.float32),    # velocity space    (1)\n",
        "}\n",
        "\n",
        "pi = PolicyIteration(\n",
        "    env=env, \n",
        "    bins_space=bins_space,\n",
        "    action_space=np.linspace(-1.0, +1.0,9, dtype=np.float32),\n",
        "    gamma=0.99,\n",
        "    theta=1e-3,\n",
        ")\n",
        "#pi.run() # 250*"
      ]
    },
    {
      "cell_type": "code",
      "execution_count": null,
      "id": "9f556b5a",
      "metadata": {},
      "outputs": [],
      "source": [
        "# Test mountain car environment:\n",
        "with open(env.__class__.__name__ + \".pkl\", \"rb\") as f:\n",
        "    pi: PolicyIteration = pickle.load(f)\n",
        "\n",
        "test_enviroment(Continuous_MountainCarEnv(render_mode=\"human\"), pi)"
      ]
    },
    {
      "cell_type": "code",
      "execution_count": null,
      "id": "80bb9473",
      "metadata": {},
      "outputs": [],
      "source": [
        "# graph the value function of the mountain car environment:\n",
        "plot_3D_value_function(pi.value_function)\n",
        "plot_2D_value_function(pi.value_function)"
      ]
    },
    {
      "cell_type": "code",
      "execution_count": null,
      "id": "a6da011b",
      "metadata": {},
      "outputs": [],
      "source": [
        "import cProfile, pstats, io\n",
        "from pstats import SortKey\n",
        "pr = cProfile.Profile()\n",
        "pr.enable()\n",
        "pi.run()\n",
        "pr.disable()\n",
        "s = io.StringIO()\n",
        "sortby = SortKey.CUMULATIVE\n",
        "ps = pstats.Stats(pr, stream=s).sort_stats(sortby)\n",
        "ps.print_stats()\n",
        "print(s.getvalue())"
      ]
    },
    {
      "cell_type": "code",
      "execution_count": null,
      "id": "48ef2e31",
      "metadata": {},
      "outputs": [],
      "source": [
        "import cProfile, pstats, io\n",
        "from pstats import SortKey\n",
        "pr = cProfile.Profile()\n",
        "pr.enable()\n",
        "pi.run()\n",
        "pr.disable()\n",
        "s = io.StringIO()\n",
        "sortby = SortKey.CUMULATIVE\n",
        "ps = pstats.Stats(pr, stream=s).sort_stats(sortby)\n",
        "ps.print_stats()\n",
        "print(s.getvalue())"
      ]
    },
    {
      "cell_type": "code",
      "execution_count": 2,
      "id": "ae5e3559",
      "metadata": {},
      "outputs": [
        {
          "name": "stderr",
          "output_type": "stream",
          "text": [
            "\u001b[32m2024-09-13 19:44:21.840\u001b[0m | \u001b[1mINFO    \u001b[0m | \u001b[36mPolicyIteration\u001b[0m:\u001b[36m__init__\u001b[0m:\u001b[36m130\u001b[0m - \u001b[1mLower bounds: [-3.1415927  0.7      ]\u001b[0m\n",
            "\u001b[32m2024-09-13 19:44:21.841\u001b[0m | \u001b[1mINFO    \u001b[0m | \u001b[36mPolicyIteration\u001b[0m:\u001b[36m__init__\u001b[0m:\u001b[36m131\u001b[0m - \u001b[1mUpper bounds: [1.e-03 4.e+00]\u001b[0m\n",
            "\u001b[32m2024-09-13 19:44:21.842\u001b[0m | \u001b[1mINFO    \u001b[0m | \u001b[36mPolicyIteration\u001b[0m:\u001b[36m__init__\u001b[0m:\u001b[36m137\u001b[0m - \u001b[1mCreating Delaunay triangulation...\u001b[0m\n",
            "\u001b[32m2024-09-13 19:44:21.872\u001b[0m | \u001b[1mINFO    \u001b[0m | \u001b[36mPolicyIteration\u001b[0m:\u001b[36m__init__\u001b[0m:\u001b[36m139\u001b[0m - \u001b[1mDelaunay triangulation created.\u001b[0m\n",
            "\u001b[32m2024-09-13 19:44:21.875\u001b[0m | \u001b[1mINFO    \u001b[0m | \u001b[36mPolicyIteration\u001b[0m:\u001b[36m__init__\u001b[0m:\u001b[36m166\u001b[0m - \u001b[1mPolicy Iteration was correctly initialized.\u001b[0m\n",
            "\u001b[32m2024-09-13 19:44:21.875\u001b[0m | \u001b[1mINFO    \u001b[0m | \u001b[36mPolicyIteration\u001b[0m:\u001b[36m__init__\u001b[0m:\u001b[36m167\u001b[0m - \u001b[1mThe enviroment name is: ReducedSymmetricGliderPullout\u001b[0m\n",
            "\u001b[32m2024-09-13 19:44:21.876\u001b[0m | \u001b[1mINFO    \u001b[0m | \u001b[36mPolicyIteration\u001b[0m:\u001b[36m__init__\u001b[0m:\u001b[36m168\u001b[0m - \u001b[1mThe action space is: [-0.5        -0.39285713 -0.2857143  -0.17857143 -0.07142857  0.03571429\n",
            "  0.14285715  0.25        0.35714287  0.4642857   0.5714286   0.6785714\n",
            "  0.78571427  0.89285713  1.        ]\u001b[0m\n",
            "\u001b[32m2024-09-13 19:44:21.876\u001b[0m | \u001b[1mINFO    \u001b[0m | \u001b[36mPolicyIteration\u001b[0m:\u001b[36m__init__\u001b[0m:\u001b[36m169\u001b[0m - \u001b[1mNumber of states: 2500\u001b[0m\n",
            "\u001b[32m2024-09-13 19:44:21.877\u001b[0m | \u001b[1mINFO    \u001b[0m | \u001b[36mPolicyIteration\u001b[0m:\u001b[36m__init__\u001b[0m:\u001b[36m170\u001b[0m - \u001b[1mTotal states:37500\u001b[0m\n",
            "\u001b[32m2024-09-13 19:44:21.878\u001b[0m | \u001b[1mINFO    \u001b[0m | \u001b[36mPolicyIteration\u001b[0m:\u001b[36mrun\u001b[0m:\u001b[36m415\u001b[0m - \u001b[1mGenerating transition and reward function table...\u001b[0m\n",
            "\u001b[32m2024-09-13 19:44:21.952\u001b[0m | \u001b[1mINFO    \u001b[0m | \u001b[36mPolicyIteration\u001b[0m:\u001b[36mrun\u001b[0m:\u001b[36m417\u001b[0m - \u001b[1mTransition and reward function table generated.\u001b[0m\n",
            "  0%|          | 0/100 [00:00<?, ?it/s]\u001b[32m2024-09-13 19:44:21.954\u001b[0m | \u001b[1mINFO    \u001b[0m | \u001b[36mPolicyIteration\u001b[0m:\u001b[36mrun\u001b[0m:\u001b[36m419\u001b[0m - \u001b[1msolving step 0\u001b[0m\n",
            "\u001b[32m2024-09-13 19:44:21.955\u001b[0m | \u001b[1mINFO    \u001b[0m | \u001b[36mPolicyIteration\u001b[0m:\u001b[36mpolicy_evaluation\u001b[0m:\u001b[36m340\u001b[0m - \u001b[1mStarting policy evaluation\u001b[0m\n",
            "\u001b[32m2024-09-13 19:44:22.195\u001b[0m | \u001b[1mINFO    \u001b[0m | \u001b[36mPolicyIteration\u001b[0m:\u001b[36mpolicy_evaluation\u001b[0m:\u001b[36m365\u001b[0m - \u001b[1mMax Error: 0.4009400010108948 | Avg Error: 0.14948999881744385 | 11<0.001\u001b[0m\n",
            "\u001b[32m2024-09-13 19:44:26.034\u001b[0m | \u001b[1mINFO    \u001b[0m | \u001b[36mPolicyIteration\u001b[0m:\u001b[36mpolicy_evaluation\u001b[0m:\u001b[36m365\u001b[0m - \u001b[1mMax Error: 0.006430000066757202 | Avg Error: 0.004449999891221523 | 0<0.001\u001b[0m\n",
            "\u001b[32m2024-09-13 19:44:29.294\u001b[0m | \u001b[1mINFO    \u001b[0m | \u001b[36mPolicyIteration\u001b[0m:\u001b[36mpolicy_evaluation\u001b[0m:\u001b[36m365\u001b[0m - \u001b[1mMax Error: 0.0005099999834783375 | Avg Error: 0.0004900000058114529 | 2500<0.001\u001b[0m\n",
            "\u001b[32m2024-09-13 19:44:29.295\u001b[0m | \u001b[1mINFO    \u001b[0m | \u001b[36mPolicyIteration\u001b[0m:\u001b[36mpolicy_evaluation\u001b[0m:\u001b[36m378\u001b[0m - \u001b[1mPolicy evaluation finished.\u001b[0m\n",
            "\u001b[32m2024-09-13 19:44:29.296\u001b[0m | \u001b[1mINFO    \u001b[0m | \u001b[36mPolicyIteration\u001b[0m:\u001b[36mpolicy_improvement\u001b[0m:\u001b[36m387\u001b[0m - \u001b[1mStarting policy improvement\u001b[0m\n",
            "\u001b[32m2024-09-13 19:44:29.341\u001b[0m | \u001b[1mINFO    \u001b[0m | \u001b[36mPolicyIteration\u001b[0m:\u001b[36mpolicy_improvement\u001b[0m:\u001b[36m404\u001b[0m - \u001b[1mThe number of updated different actions: [2500 2500 2500 2500 2500 2500 2500 2500 2500 2500 2500 2500 2500 2500\n",
            " 2500]\u001b[0m\n",
            "\u001b[32m2024-09-13 19:44:29.342\u001b[0m | \u001b[1mINFO    \u001b[0m | \u001b[36mPolicyIteration\u001b[0m:\u001b[36mpolicy_improvement\u001b[0m:\u001b[36m407\u001b[0m - \u001b[1mPolicy improvement finished.\u001b[0m\n",
            "  1%|          | 1/100 [00:07<12:11,  7.39s/it]\u001b[32m2024-09-13 19:44:29.343\u001b[0m | \u001b[1mINFO    \u001b[0m | \u001b[36mPolicyIteration\u001b[0m:\u001b[36mrun\u001b[0m:\u001b[36m419\u001b[0m - \u001b[1msolving step 1\u001b[0m\n",
            "\u001b[32m2024-09-13 19:44:29.343\u001b[0m | \u001b[1mINFO    \u001b[0m | \u001b[36mPolicyIteration\u001b[0m:\u001b[36mpolicy_evaluation\u001b[0m:\u001b[36m340\u001b[0m - \u001b[1mStarting policy evaluation\u001b[0m\n",
            "\u001b[32m2024-09-13 19:44:29.516\u001b[0m | \u001b[1mINFO    \u001b[0m | \u001b[36mPolicyIteration\u001b[0m:\u001b[36mpolicy_evaluation\u001b[0m:\u001b[36m365\u001b[0m - \u001b[1mMax Error: 0.8158999681472778 | Avg Error: 0.22103999555110931 | 2<0.001\u001b[0m\n",
            "\u001b[32m2024-09-13 19:44:33.306\u001b[0m | \u001b[1mINFO    \u001b[0m | \u001b[36mPolicyIteration\u001b[0m:\u001b[36mpolicy_evaluation\u001b[0m:\u001b[36m365\u001b[0m - \u001b[1mMax Error: 0.01261999923735857 | Avg Error: 0.007199999876320362 | 0<0.001\u001b[0m\n",
            "\u001b[32m2024-09-13 19:44:36.377\u001b[0m | \u001b[1mINFO    \u001b[0m | \u001b[36mPolicyIteration\u001b[0m:\u001b[36mpolicy_evaluation\u001b[0m:\u001b[36m365\u001b[0m - \u001b[1mMax Error: 0.0009599999757483602 | Avg Error: 0.0006599999614991248 | 2500<0.001\u001b[0m\n",
            "\u001b[32m2024-09-13 19:44:36.377\u001b[0m | \u001b[1mINFO    \u001b[0m | \u001b[36mPolicyIteration\u001b[0m:\u001b[36mpolicy_evaluation\u001b[0m:\u001b[36m378\u001b[0m - \u001b[1mPolicy evaluation finished.\u001b[0m\n",
            "\u001b[32m2024-09-13 19:44:36.378\u001b[0m | \u001b[1mINFO    \u001b[0m | \u001b[36mPolicyIteration\u001b[0m:\u001b[36mpolicy_improvement\u001b[0m:\u001b[36m387\u001b[0m - \u001b[1mStarting policy improvement\u001b[0m\n",
            "\u001b[32m2024-09-13 19:44:36.419\u001b[0m | \u001b[1mINFO    \u001b[0m | \u001b[36mPolicyIteration\u001b[0m:\u001b[36mpolicy_improvement\u001b[0m:\u001b[36m404\u001b[0m - \u001b[1mThe number of updated different actions: [ 96   7   2   0   0   0   0   0   8  11   8   5   7   5 121]\u001b[0m\n",
            "\u001b[32m2024-09-13 19:44:36.420\u001b[0m | \u001b[1mINFO    \u001b[0m | \u001b[36mPolicyIteration\u001b[0m:\u001b[36mpolicy_improvement\u001b[0m:\u001b[36m407\u001b[0m - \u001b[1mPolicy improvement finished.\u001b[0m\n",
            "  2%|▏         | 2/100 [00:14<11:46,  7.21s/it]\u001b[32m2024-09-13 19:44:36.421\u001b[0m | \u001b[1mINFO    \u001b[0m | \u001b[36mPolicyIteration\u001b[0m:\u001b[36mrun\u001b[0m:\u001b[36m419\u001b[0m - \u001b[1msolving step 2\u001b[0m\n",
            "\u001b[32m2024-09-13 19:44:36.422\u001b[0m | \u001b[1mINFO    \u001b[0m | \u001b[36mPolicyIteration\u001b[0m:\u001b[36mpolicy_evaluation\u001b[0m:\u001b[36m340\u001b[0m - \u001b[1mStarting policy evaluation\u001b[0m\n",
            "\u001b[32m2024-09-13 19:44:36.638\u001b[0m | \u001b[1mINFO    \u001b[0m | \u001b[36mPolicyIteration\u001b[0m:\u001b[36mpolicy_evaluation\u001b[0m:\u001b[36m365\u001b[0m - \u001b[1mMax Error: 2.4307899475097656 | Avg Error: 0.01744999922811985 | 2368<0.001\u001b[0m\n",
            "\u001b[32m2024-09-13 19:44:39.973\u001b[0m | \u001b[1mINFO    \u001b[0m | \u001b[36mPolicyIteration\u001b[0m:\u001b[36mpolicy_evaluation\u001b[0m:\u001b[36m365\u001b[0m - \u001b[1mMax Error: 7.999999797903001e-05 | Avg Error: 4.999999873689376e-05 | 2500<0.001\u001b[0m\n",
            "\u001b[32m2024-09-13 19:44:39.974\u001b[0m | \u001b[1mINFO    \u001b[0m | \u001b[36mPolicyIteration\u001b[0m:\u001b[36mpolicy_evaluation\u001b[0m:\u001b[36m378\u001b[0m - \u001b[1mPolicy evaluation finished.\u001b[0m\n",
            "\u001b[32m2024-09-13 19:44:39.974\u001b[0m | \u001b[1mINFO    \u001b[0m | \u001b[36mPolicyIteration\u001b[0m:\u001b[36mpolicy_improvement\u001b[0m:\u001b[36m387\u001b[0m - \u001b[1mStarting policy improvement\u001b[0m\n",
            "\u001b[32m2024-09-13 19:44:40.018\u001b[0m | \u001b[1mINFO    \u001b[0m | \u001b[36mPolicyIteration\u001b[0m:\u001b[36mpolicy_improvement\u001b[0m:\u001b[36m404\u001b[0m - \u001b[1mThe number of updated different actions: [51  0  0  0  0  0  0  0  0  0  0  1  5  4 53]\u001b[0m\n",
            "\u001b[32m2024-09-13 19:44:40.019\u001b[0m | \u001b[1mINFO    \u001b[0m | \u001b[36mPolicyIteration\u001b[0m:\u001b[36mpolicy_improvement\u001b[0m:\u001b[36m407\u001b[0m - \u001b[1mPolicy improvement finished.\u001b[0m\n",
            "  3%|▎         | 3/100 [00:18<08:59,  5.56s/it]\u001b[32m2024-09-13 19:44:40.021\u001b[0m | \u001b[1mINFO    \u001b[0m | \u001b[36mPolicyIteration\u001b[0m:\u001b[36mrun\u001b[0m:\u001b[36m419\u001b[0m - \u001b[1msolving step 3\u001b[0m\n",
            "\u001b[32m2024-09-13 19:44:40.021\u001b[0m | \u001b[1mINFO    \u001b[0m | \u001b[36mPolicyIteration\u001b[0m:\u001b[36mpolicy_evaluation\u001b[0m:\u001b[36m340\u001b[0m - \u001b[1mStarting policy evaluation\u001b[0m\n",
            "\u001b[32m2024-09-13 19:44:40.232\u001b[0m | \u001b[1mINFO    \u001b[0m | \u001b[36mPolicyIteration\u001b[0m:\u001b[36mpolicy_evaluation\u001b[0m:\u001b[36m365\u001b[0m - \u001b[1mMax Error: 2.0141899585723877 | Avg Error: 0.011869999580085278 | 2449<0.001\u001b[0m\n",
            "\u001b[32m2024-09-13 19:44:44.091\u001b[0m | \u001b[1mINFO    \u001b[0m | \u001b[36mPolicyIteration\u001b[0m:\u001b[36mpolicy_evaluation\u001b[0m:\u001b[36m365\u001b[0m - \u001b[1mMax Error: 9.999999747378752e-06 | Avg Error: 0.0 | 2500<0.001\u001b[0m\n",
            "\u001b[32m2024-09-13 19:44:44.092\u001b[0m | \u001b[1mINFO    \u001b[0m | \u001b[36mPolicyIteration\u001b[0m:\u001b[36mpolicy_evaluation\u001b[0m:\u001b[36m378\u001b[0m - \u001b[1mPolicy evaluation finished.\u001b[0m\n",
            "\u001b[32m2024-09-13 19:44:44.092\u001b[0m | \u001b[1mINFO    \u001b[0m | \u001b[36mPolicyIteration\u001b[0m:\u001b[36mpolicy_improvement\u001b[0m:\u001b[36m387\u001b[0m - \u001b[1mStarting policy improvement\u001b[0m\n",
            "\u001b[32m2024-09-13 19:44:44.150\u001b[0m | \u001b[1mINFO    \u001b[0m | \u001b[36mPolicyIteration\u001b[0m:\u001b[36mpolicy_improvement\u001b[0m:\u001b[36m404\u001b[0m - \u001b[1mThe number of updated different actions: [34  0  0  0  0  0  0  0  0  0  0  0  3  1 38]\u001b[0m\n",
            "\u001b[32m2024-09-13 19:44:44.151\u001b[0m | \u001b[1mINFO    \u001b[0m | \u001b[36mPolicyIteration\u001b[0m:\u001b[36mpolicy_improvement\u001b[0m:\u001b[36m407\u001b[0m - \u001b[1mPolicy improvement finished.\u001b[0m\n",
            "  4%|▍         | 4/100 [00:22<07:59,  5.00s/it]\u001b[32m2024-09-13 19:44:44.152\u001b[0m | \u001b[1mINFO    \u001b[0m | \u001b[36mPolicyIteration\u001b[0m:\u001b[36mrun\u001b[0m:\u001b[36m419\u001b[0m - \u001b[1msolving step 4\u001b[0m\n",
            "\u001b[32m2024-09-13 19:44:44.152\u001b[0m | \u001b[1mINFO    \u001b[0m | \u001b[36mPolicyIteration\u001b[0m:\u001b[36mpolicy_evaluation\u001b[0m:\u001b[36m340\u001b[0m - \u001b[1mStarting policy evaluation\u001b[0m\n",
            "\u001b[32m2024-09-13 19:44:44.365\u001b[0m | \u001b[1mINFO    \u001b[0m | \u001b[36mPolicyIteration\u001b[0m:\u001b[36mpolicy_evaluation\u001b[0m:\u001b[36m365\u001b[0m - \u001b[1mMax Error: 1.6821099519729614 | Avg Error: 0.009180000051856041 | 2463<0.001\u001b[0m\n",
            "\u001b[32m2024-09-13 19:44:47.607\u001b[0m | \u001b[1mINFO    \u001b[0m | \u001b[36mPolicyIteration\u001b[0m:\u001b[36mpolicy_evaluation\u001b[0m:\u001b[36m365\u001b[0m - \u001b[1mMax Error: 0.0 | Avg Error: 0.0 | 2500<0.001\u001b[0m\n",
            "\u001b[32m2024-09-13 19:44:47.608\u001b[0m | \u001b[1mINFO    \u001b[0m | \u001b[36mPolicyIteration\u001b[0m:\u001b[36mpolicy_evaluation\u001b[0m:\u001b[36m378\u001b[0m - \u001b[1mPolicy evaluation finished.\u001b[0m\n",
            "\u001b[32m2024-09-13 19:44:47.609\u001b[0m | \u001b[1mINFO    \u001b[0m | \u001b[36mPolicyIteration\u001b[0m:\u001b[36mpolicy_improvement\u001b[0m:\u001b[36m387\u001b[0m - \u001b[1mStarting policy improvement\u001b[0m\n",
            "\u001b[32m2024-09-13 19:44:47.652\u001b[0m | \u001b[1mINFO    \u001b[0m | \u001b[36mPolicyIteration\u001b[0m:\u001b[36mpolicy_improvement\u001b[0m:\u001b[36m404\u001b[0m - \u001b[1mThe number of updated different actions: [28  0  0  0  0  0  0  1  0  0  0  0  0  0 27]\u001b[0m\n",
            "\u001b[32m2024-09-13 19:44:47.652\u001b[0m | \u001b[1mINFO    \u001b[0m | \u001b[36mPolicyIteration\u001b[0m:\u001b[36mpolicy_improvement\u001b[0m:\u001b[36m407\u001b[0m - \u001b[1mPolicy improvement finished.\u001b[0m\n",
            "  5%|▌         | 5/100 [00:25<07:03,  4.46s/it]\u001b[32m2024-09-13 19:44:47.653\u001b[0m | \u001b[1mINFO    \u001b[0m | \u001b[36mPolicyIteration\u001b[0m:\u001b[36mrun\u001b[0m:\u001b[36m419\u001b[0m - \u001b[1msolving step 5\u001b[0m\n",
            "\u001b[32m2024-09-13 19:44:47.654\u001b[0m | \u001b[1mINFO    \u001b[0m | \u001b[36mPolicyIteration\u001b[0m:\u001b[36mpolicy_evaluation\u001b[0m:\u001b[36m340\u001b[0m - \u001b[1mStarting policy evaluation\u001b[0m\n",
            "\u001b[32m2024-09-13 19:44:47.851\u001b[0m | \u001b[1mINFO    \u001b[0m | \u001b[36mPolicyIteration\u001b[0m:\u001b[36mpolicy_evaluation\u001b[0m:\u001b[36m365\u001b[0m - \u001b[1mMax Error: 1.3271199464797974 | Avg Error: 0.006730000022798777 | 2472<0.001\u001b[0m\n",
            "\u001b[32m2024-09-13 19:44:50.992\u001b[0m | \u001b[1mINFO    \u001b[0m | \u001b[36mPolicyIteration\u001b[0m:\u001b[36mpolicy_evaluation\u001b[0m:\u001b[36m365\u001b[0m - \u001b[1mMax Error: 0.0 | Avg Error: 0.0 | 2500<0.001\u001b[0m\n",
            "\u001b[32m2024-09-13 19:44:50.993\u001b[0m | \u001b[1mINFO    \u001b[0m | \u001b[36mPolicyIteration\u001b[0m:\u001b[36mpolicy_evaluation\u001b[0m:\u001b[36m378\u001b[0m - \u001b[1mPolicy evaluation finished.\u001b[0m\n",
            "\u001b[32m2024-09-13 19:44:50.993\u001b[0m | \u001b[1mINFO    \u001b[0m | \u001b[36mPolicyIteration\u001b[0m:\u001b[36mpolicy_improvement\u001b[0m:\u001b[36m387\u001b[0m - \u001b[1mStarting policy improvement\u001b[0m\n",
            "\u001b[32m2024-09-13 19:44:51.036\u001b[0m | \u001b[1mINFO    \u001b[0m | \u001b[36mPolicyIteration\u001b[0m:\u001b[36mpolicy_improvement\u001b[0m:\u001b[36m404\u001b[0m - \u001b[1mThe number of updated different actions: [21  0  0  0  0  0  1  1  0  0  0  0  0  0 21]\u001b[0m\n",
            "\u001b[32m2024-09-13 19:44:51.037\u001b[0m | \u001b[1mINFO    \u001b[0m | \u001b[36mPolicyIteration\u001b[0m:\u001b[36mpolicy_improvement\u001b[0m:\u001b[36m407\u001b[0m - \u001b[1mPolicy improvement finished.\u001b[0m\n",
            "  6%|▌         | 6/100 [00:29<06:24,  4.09s/it]\u001b[32m2024-09-13 19:44:51.038\u001b[0m | \u001b[1mINFO    \u001b[0m | \u001b[36mPolicyIteration\u001b[0m:\u001b[36mrun\u001b[0m:\u001b[36m419\u001b[0m - \u001b[1msolving step 6\u001b[0m\n",
            "\u001b[32m2024-09-13 19:44:51.038\u001b[0m | \u001b[1mINFO    \u001b[0m | \u001b[36mPolicyIteration\u001b[0m:\u001b[36mpolicy_evaluation\u001b[0m:\u001b[36m340\u001b[0m - \u001b[1mStarting policy evaluation\u001b[0m\n",
            "\u001b[32m2024-09-13 19:44:51.255\u001b[0m | \u001b[1mINFO    \u001b[0m | \u001b[36mPolicyIteration\u001b[0m:\u001b[36mpolicy_evaluation\u001b[0m:\u001b[36m365\u001b[0m - \u001b[1mMax Error: 0.9480399489402771 | Avg Error: 0.0038999998942017555 | 2479<0.001\u001b[0m\n",
            "\u001b[32m2024-09-13 19:44:55.073\u001b[0m | \u001b[1mINFO    \u001b[0m | \u001b[36mPolicyIteration\u001b[0m:\u001b[36mpolicy_evaluation\u001b[0m:\u001b[36m365\u001b[0m - \u001b[1mMax Error: 0.0 | Avg Error: 0.0 | 2500<0.001\u001b[0m\n",
            "\u001b[32m2024-09-13 19:44:55.074\u001b[0m | \u001b[1mINFO    \u001b[0m | \u001b[36mPolicyIteration\u001b[0m:\u001b[36mpolicy_evaluation\u001b[0m:\u001b[36m378\u001b[0m - \u001b[1mPolicy evaluation finished.\u001b[0m\n",
            "\u001b[32m2024-09-13 19:44:55.074\u001b[0m | \u001b[1mINFO    \u001b[0m | \u001b[36mPolicyIteration\u001b[0m:\u001b[36mpolicy_improvement\u001b[0m:\u001b[36m387\u001b[0m - \u001b[1mStarting policy improvement\u001b[0m\n",
            "\u001b[32m2024-09-13 19:44:55.120\u001b[0m | \u001b[1mINFO    \u001b[0m | \u001b[36mPolicyIteration\u001b[0m:\u001b[36mpolicy_improvement\u001b[0m:\u001b[36m404\u001b[0m - \u001b[1mThe number of updated different actions: [13  0  0  0  0  0  0  0  0  0  0  0  0  0 13]\u001b[0m\n",
            "\u001b[32m2024-09-13 19:44:55.120\u001b[0m | \u001b[1mINFO    \u001b[0m | \u001b[36mPolicyIteration\u001b[0m:\u001b[36mpolicy_improvement\u001b[0m:\u001b[36m407\u001b[0m - \u001b[1mPolicy improvement finished.\u001b[0m\n",
            "  7%|▋         | 7/100 [00:33<06:20,  4.09s/it]\u001b[32m2024-09-13 19:44:55.121\u001b[0m | \u001b[1mINFO    \u001b[0m | \u001b[36mPolicyIteration\u001b[0m:\u001b[36mrun\u001b[0m:\u001b[36m419\u001b[0m - \u001b[1msolving step 7\u001b[0m\n",
            "\u001b[32m2024-09-13 19:44:55.122\u001b[0m | \u001b[1mINFO    \u001b[0m | \u001b[36mPolicyIteration\u001b[0m:\u001b[36mpolicy_evaluation\u001b[0m:\u001b[36m340\u001b[0m - \u001b[1mStarting policy evaluation\u001b[0m\n",
            "\u001b[32m2024-09-13 19:44:55.327\u001b[0m | \u001b[1mINFO    \u001b[0m | \u001b[36mPolicyIteration\u001b[0m:\u001b[36mpolicy_evaluation\u001b[0m:\u001b[36m365\u001b[0m - \u001b[1mMax Error: 0.5465099811553955 | Avg Error: 0.0019600000232458115 | 2487<0.001\u001b[0m\n",
            "\u001b[32m2024-09-13 19:44:58.782\u001b[0m | \u001b[1mINFO    \u001b[0m | \u001b[36mPolicyIteration\u001b[0m:\u001b[36mpolicy_evaluation\u001b[0m:\u001b[36m365\u001b[0m - \u001b[1mMax Error: 0.0 | Avg Error: 0.0 | 2500<0.001\u001b[0m\n",
            "\u001b[32m2024-09-13 19:44:58.783\u001b[0m | \u001b[1mINFO    \u001b[0m | \u001b[36mPolicyIteration\u001b[0m:\u001b[36mpolicy_evaluation\u001b[0m:\u001b[36m378\u001b[0m - \u001b[1mPolicy evaluation finished.\u001b[0m\n",
            "\u001b[32m2024-09-13 19:44:58.783\u001b[0m | \u001b[1mINFO    \u001b[0m | \u001b[36mPolicyIteration\u001b[0m:\u001b[36mpolicy_improvement\u001b[0m:\u001b[36m387\u001b[0m - \u001b[1mStarting policy improvement\u001b[0m\n",
            "\u001b[32m2024-09-13 19:44:58.827\u001b[0m | \u001b[1mINFO    \u001b[0m | \u001b[36mPolicyIteration\u001b[0m:\u001b[36mpolicy_improvement\u001b[0m:\u001b[36m404\u001b[0m - \u001b[1mThe number of updated different actions: [9 0 0 0 0 0 0 0 0 0 0 0 0 0 9]\u001b[0m\n",
            "\u001b[32m2024-09-13 19:44:58.828\u001b[0m | \u001b[1mINFO    \u001b[0m | \u001b[36mPolicyIteration\u001b[0m:\u001b[36mpolicy_improvement\u001b[0m:\u001b[36m407\u001b[0m - \u001b[1mPolicy improvement finished.\u001b[0m\n",
            "  8%|▊         | 8/100 [00:36<06:05,  3.97s/it]\u001b[32m2024-09-13 19:44:58.829\u001b[0m | \u001b[1mINFO    \u001b[0m | \u001b[36mPolicyIteration\u001b[0m:\u001b[36mrun\u001b[0m:\u001b[36m419\u001b[0m - \u001b[1msolving step 8\u001b[0m\n",
            "\u001b[32m2024-09-13 19:44:58.829\u001b[0m | \u001b[1mINFO    \u001b[0m | \u001b[36mPolicyIteration\u001b[0m:\u001b[36mpolicy_evaluation\u001b[0m:\u001b[36m340\u001b[0m - \u001b[1mStarting policy evaluation\u001b[0m\n",
            "\u001b[32m2024-09-13 19:44:59.146\u001b[0m | \u001b[1mINFO    \u001b[0m | \u001b[36mPolicyIteration\u001b[0m:\u001b[36mpolicy_evaluation\u001b[0m:\u001b[36m365\u001b[0m - \u001b[1mMax Error: 0.12311999499797821 | Avg Error: 0.00022999999055173248 | 2491<0.001\u001b[0m\n",
            "\u001b[32m2024-09-13 19:45:02.310\u001b[0m | \u001b[1mINFO    \u001b[0m | \u001b[36mPolicyIteration\u001b[0m:\u001b[36mpolicy_evaluation\u001b[0m:\u001b[36m365\u001b[0m - \u001b[1mMax Error: 0.0 | Avg Error: 0.0 | 2500<0.001\u001b[0m\n",
            "\u001b[32m2024-09-13 19:45:02.311\u001b[0m | \u001b[1mINFO    \u001b[0m | \u001b[36mPolicyIteration\u001b[0m:\u001b[36mpolicy_evaluation\u001b[0m:\u001b[36m378\u001b[0m - \u001b[1mPolicy evaluation finished.\u001b[0m\n",
            "\u001b[32m2024-09-13 19:45:02.311\u001b[0m | \u001b[1mINFO    \u001b[0m | \u001b[36mPolicyIteration\u001b[0m:\u001b[36mpolicy_improvement\u001b[0m:\u001b[36m387\u001b[0m - \u001b[1mStarting policy improvement\u001b[0m\n",
            "\u001b[32m2024-09-13 19:45:02.331\u001b[0m | \u001b[1mINFO    \u001b[0m | \u001b[36mPolicyIteration\u001b[0m:\u001b[36mpolicy_improvement\u001b[0m:\u001b[36m407\u001b[0m - \u001b[1mPolicy improvement finished.\u001b[0m\n",
            "  8%|▊         | 8/100 [00:40<07:44,  5.05s/it]\n",
            "\u001b[32m2024-09-13 19:45:02.336\u001b[0m | \u001b[1mINFO    \u001b[0m | \u001b[36mPolicyIteration\u001b[0m:\u001b[36msave\u001b[0m:\u001b[36m433\u001b[0m - \u001b[1mPolicy and value function saved.\u001b[0m\n"
          ]
        }
      ],
      "source": [
        "import numpy as np\n",
        "from PolicyIteration import PolicyIteration\n",
        "from src.reduced_symmetric_glider_pullout import ReducedSymmetricGliderPullout\n",
        "\n",
        "\n",
        "glider = ReducedSymmetricGliderPullout()\n",
        "\n",
        "bins_space = {\n",
        "    \"flight_path_angle\": np.linspace(-np.pi, .001, 50,      dtype=np.float32),    # Flight Path Angle (γ)    (0)\n",
        "    \"airspeed_norm\":     np.linspace(0.7, 4,       50,      dtype=np.float32),    # Air Speed         (V)    (1)\n",
        "}\n",
        "\n",
        "pi = PolicyIteration(\n",
        "    env=glider, \n",
        "    bins_space=bins_space,\n",
        "    action_space=np.linspace(-0.5, 1.0, 15, dtype=np.float32),\n",
        "    gamma=0.99,\n",
        "    theta=1e-3,\n",
        ")\n",
        "\n",
        "\n",
        "pi.run()"
      ]
    },
    {
      "cell_type": "code",
      "execution_count": null,
      "id": "dc0c439f",
      "metadata": {},
      "outputs": [],
      "source": [
        "flight_path_angle = pi.states_space[:,0]\n",
        "airspeed_norm = pi.states_space[:,1]"
      ]
    },
    {
      "cell_type": "code",
      "execution_count": null,
      "id": "8e425edd",
      "metadata": {},
      "outputs": [],
      "source": [
        "airspeed_norm"
      ]
    }
  ],
  "metadata": {
    "colab": {
      "include_colab_link": true,
      "provenance": []
    },
    "kernelspec": {
      "display_name": "Python 3 (ipykernel)",
      "language": "python",
      "name": "python3"
    },
    "language_info": {
      "codemirror_mode": {
        "name": "ipython",
        "version": 3
      },
      "file_extension": ".py",
      "mimetype": "text/x-python",
      "name": "python",
      "nbconvert_exporter": "python",
      "pygments_lexer": "ipython3",
      "version": "3.11.9"
    }
  },
  "nbformat": 4,
  "nbformat_minor": 5
}
