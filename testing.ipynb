{
  "cells": [
    {
      "cell_type": "markdown",
      "id": "b149d005",
      "metadata": {
        "colab_type": "text",
        "id": "view-in-github"
      },
      "source": [
        "<a href=\"https://colab.research.google.com/github/nicoRomeroCuruchet/DynamicProgramming/blob/main/testing_bary.ipynb\" target=\"_parent\"><img src=\"https://colab.research.google.com/assets/colab-badge.svg\" alt=\"Open In Colab\"/></a>"
      ]
    },
    {
      "cell_type": "code",
      "execution_count": null,
      "id": "002626e9",
      "metadata": {},
      "outputs": [],
      "source": [
        "import pickle\n",
        "import numpy as np\n",
        "from PolicyIteration import PolicyIteration\n",
        "from utils.utils import plot_2D_value_function,\\\n",
        "                        plot_3D_value_function,\\\n",
        "                        test_enviroment"
      ]
    },
    {
      "cell_type": "markdown",
      "id": "3c8fe4a4",
      "metadata": {},
      "source": [
        "# CartPoleEnv \n",
        "\n",
        "### Observation Space\n",
        "\n",
        "The observation is a `ndarray` with shape `(4,)` with the values corresponding to the following positions and velocities:\n",
        "\n",
        "| Num | Observation           | Min                 | Max               |\n",
        "|-----|-----------------------|---------------------|-------------------|\n",
        "| 0   | Cart Position         | -4.8                | 4.8               |\n",
        "| 1   | Cart Velocity         | -Inf                | Inf               |\n",
        "| 2   | Pole Angle            | ~ -0.418 rad (-24°) | ~ 0.418 rad (24°) |\n",
        "| 3   | Pole Angular Velocity | -Inf                | Inf               |\n",
        "\n",
        "### Action Space\n",
        "\n",
        "The action is a `ndarray` with shape `(1,)` which can take values `{0, 1}` indicating the direction\n",
        "of the fixed force the cart is pushed with.\n",
        "\n",
        "- 0: Push cart to the left\n",
        "- 1: Push cart to the right"
      ]
    },
    {
      "cell_type": "code",
      "execution_count": null,
      "id": "a1c04b7b",
      "metadata": {},
      "outputs": [],
      "source": [
        "# Train cartpole environment:\n",
        "from classic_control.cartpole import CartPoleEnv\n",
        "\n",
        "env = CartPoleEnv(sutton_barto_reward=True)\n",
        "# position thresholds:\n",
        "x_lim         = 2.4\n",
        "theta_lim     = 0.418 \n",
        "# velocity thresholds:\n",
        "x_dot_lim     = 3.1\n",
        "theta_dot_lim = 3.1\n",
        "\n",
        "bins_space = {\n",
        "    \"x_space\"         : np.linspace(-x_lim, x_lim, 10,  dtype=np.float32),                     # position space         (0)\n",
        "    \"x_dot_space\"     : np.linspace(-x_dot_lim, x_dot_lim, 7,  dtype=np.float32),              # velocity space         (1)\n",
        "    \"theta_space\"     : np.linspace(-theta_lim, theta_lim, 10, dtype=np.float32),              # angle space            (2)\n",
        "    \"theta_dot_space\" : np.linspace(-theta_dot_lim, theta_dot_lim, 7, dtype=np.float32),       # angular velocity space (3)\n",
        "}\n",
        "\n",
        "pi = PolicyIteration(\n",
        "    env=env, \n",
        "    bins_space=bins_space,\n",
        "    action_space=np.array([0, 1], dtype=np.int32),\n",
        "    gamma=0.99,\n",
        "    theta=1e-3\n",
        ")\n",
        "\n",
        "pi.run()"
      ]
    },
    {
      "cell_type": "code",
      "execution_count": null,
      "id": "0462a904",
      "metadata": {},
      "outputs": [],
      "source": [
        "# Test cartpole environment:\n",
        "\n",
        "with open(env.__class__.__name__ + \".pkl\", \"rb\") as f:\n",
        "    pi = pickle.load(f)\n",
        "\n",
        "test_enviroment(CartPoleEnv(sutton_barto_reward=True, render_mode=\"human\"), pi)"
      ]
    },
    {
      "cell_type": "markdown",
      "id": "063b6002",
      "metadata": {},
      "source": [
        "## Observation Space\n",
        "\n",
        "The observation is a `ndarray` with shape `(2,)` where the elements correspond to the following:\n",
        "\n",
        "| Num | Observation                          | Min   | Max  | Unit         |\n",
        "|-----|--------------------------------------|-------|------|--------------|\n",
        "| 0   | position of the car along the x-axis | -1.2  | 0.6  | position (m) |\n",
        "| 1   | velocity of the car                  | -0.07 | 0.07 | velocity (v) |\n",
        "\n",
        "## Action Space\n",
        "\n",
        "There are 3 discrete deterministic actions:\n",
        "\n",
        "- 0: Accelerate to the left\n",
        "- 1: Don't accelerate\n",
        "- 2: Accelerate to the right\n"
      ]
    },
    {
      "cell_type": "code",
      "execution_count": 1,
      "id": "9d617686",
      "metadata": {},
      "outputs": [
        {
          "name": "stderr",
          "output_type": "stream",
          "text": [
            "\u001b[32m2024-09-04 19:13:39.705\u001b[0m | \u001b[1mINFO    \u001b[0m | \u001b[36mPolicyIteration\u001b[0m:\u001b[36m__init__\u001b[0m:\u001b[36m103\u001b[0m - \u001b[1mLower bounds: [-1.2  -0.07]\u001b[0m\n",
            "\u001b[32m2024-09-04 19:13:39.705\u001b[0m | \u001b[1mINFO    \u001b[0m | \u001b[36mPolicyIteration\u001b[0m:\u001b[36m__init__\u001b[0m:\u001b[36m104\u001b[0m - \u001b[1mUpper bounds: [0.6  0.07]\u001b[0m\n",
            "\u001b[32m2024-09-04 19:13:39.827\u001b[0m | \u001b[1mINFO    \u001b[0m | \u001b[36mPolicyIteration\u001b[0m:\u001b[36m__init__\u001b[0m:\u001b[36m110\u001b[0m - \u001b[1mCreating Delaunay triangulation...\u001b[0m\n",
            "\u001b[32m2024-09-04 19:13:39.833\u001b[0m | \u001b[1mINFO    \u001b[0m | \u001b[36mPolicyIteration\u001b[0m:\u001b[36m__init__\u001b[0m:\u001b[36m112\u001b[0m - \u001b[1mDelaunay triangulation created.\u001b[0m\n",
            "\u001b[32m2024-09-04 19:13:39.886\u001b[0m | \u001b[1mINFO    \u001b[0m | \u001b[36mPolicyIteration\u001b[0m:\u001b[36m__init__\u001b[0m:\u001b[36m138\u001b[0m - \u001b[1mPolicy Iteration was correctly initialized.\u001b[0m\n",
            "\u001b[32m2024-09-04 19:13:39.886\u001b[0m | \u001b[1mINFO    \u001b[0m | \u001b[36mPolicyIteration\u001b[0m:\u001b[36m__init__\u001b[0m:\u001b[36m139\u001b[0m - \u001b[1mThe enviroment name is: Continuous_MountainCarEnv\u001b[0m\n",
            "\u001b[32m2024-09-04 19:13:39.886\u001b[0m | \u001b[1mINFO    \u001b[0m | \u001b[36mPolicyIteration\u001b[0m:\u001b[36m__init__\u001b[0m:\u001b[36m140\u001b[0m - \u001b[1mThe action space is: [-1.   -0.75 -0.5  -0.25  0.    0.25  0.5   0.75  1.  ]\u001b[0m\n",
            "\u001b[32m2024-09-04 19:13:39.888\u001b[0m | \u001b[1mINFO    \u001b[0m | \u001b[36mPolicyIteration\u001b[0m:\u001b[36m__init__\u001b[0m:\u001b[36m141\u001b[0m - \u001b[1mNumber of states: 625\u001b[0m\n",
            "\u001b[32m2024-09-04 19:13:39.889\u001b[0m | \u001b[1mINFO    \u001b[0m | \u001b[36mPolicyIteration\u001b[0m:\u001b[36m__init__\u001b[0m:\u001b[36m142\u001b[0m - \u001b[1mTotal states:5625\u001b[0m\n"
          ]
        },
        {
          "name": "stdout",
          "output_type": "stream",
          "text": [
            "lambdas shape: (625, 3, 1)\n",
            "[[-1.19999998e+00]\n",
            " [-1.24344910e-17]\n",
            " [ 1.00000000e+00]] [[-1.2]\n",
            " [ 0. ]\n",
            " [ 1. ]]\n"
          ]
        },
        {
          "ename": "ZeroDivisionError",
          "evalue": "division by zero",
          "output_type": "error",
          "traceback": [
            "\u001b[1;31m---------------------------------------------------------------------------\u001b[0m",
            "\u001b[1;31mZeroDivisionError\u001b[0m                         Traceback (most recent call last)",
            "Cell \u001b[1;32mIn[1], line 30\u001b[0m\n\u001b[0;32m     16\u001b[0m bins_space \u001b[38;5;241m=\u001b[39m {\n\u001b[0;32m     17\u001b[0m     \u001b[38;5;124m\"\u001b[39m\u001b[38;5;124mx_space\u001b[39m\u001b[38;5;124m\"\u001b[39m:     np\u001b[38;5;241m.\u001b[39mlinspace(env\u001b[38;5;241m.\u001b[39mmin_position, env\u001b[38;5;241m.\u001b[39mmax_position, \u001b[38;5;241m25\u001b[39m,      dtype\u001b[38;5;241m=\u001b[39mnp\u001b[38;5;241m.\u001b[39mfloat32),    \u001b[38;5;66;03m# position space    (0)\u001b[39;00m\n\u001b[0;32m     18\u001b[0m     \u001b[38;5;124m\"\u001b[39m\u001b[38;5;124mx_dot_space\u001b[39m\u001b[38;5;124m\"\u001b[39m: np\u001b[38;5;241m.\u001b[39mlinspace(\u001b[38;5;241m-\u001b[39m\u001b[38;5;28mabs\u001b[39m(env\u001b[38;5;241m.\u001b[39mmax_speed), \u001b[38;5;28mabs\u001b[39m(env\u001b[38;5;241m.\u001b[39mmax_speed), \u001b[38;5;241m25\u001b[39m, dtype\u001b[38;5;241m=\u001b[39mnp\u001b[38;5;241m.\u001b[39mfloat32),    \u001b[38;5;66;03m# velocity space    (1)\u001b[39;00m\n\u001b[0;32m     19\u001b[0m }\n\u001b[0;32m     21\u001b[0m pi \u001b[38;5;241m=\u001b[39m PolicyIteration(\n\u001b[0;32m     22\u001b[0m     env\u001b[38;5;241m=\u001b[39menv, \n\u001b[0;32m     23\u001b[0m     bins_space\u001b[38;5;241m=\u001b[39mbins_space,\n\u001b[1;32m   (...)\u001b[0m\n\u001b[0;32m     26\u001b[0m     theta\u001b[38;5;241m=\u001b[39m\u001b[38;5;241m1e-3\u001b[39m,\n\u001b[0;32m     27\u001b[0m )\n\u001b[1;32m---> 30\u001b[0m pi\u001b[38;5;241m.\u001b[39mcalculate_transition_reward_table()\n",
            "File \u001b[1;32mc:\\users\\nicor\\dynamicprogramming\\src\\PolicyIteration.py:316\u001b[0m, in \u001b[0;36mPolicyIteration.calculate_transition_reward_table\u001b[1;34m(self)\u001b[0m\n\u001b[0;32m    313\u001b[0m \u001b[38;5;66;03m# if any state is outside the bounds of the environment, set the reward to -100\u001b[39;00m\n\u001b[0;32m    314\u001b[0m reward \u001b[38;5;241m=\u001b[39m jnp\u001b[38;5;241m.\u001b[39mwhere(\u001b[38;5;28mself\u001b[39m\u001b[38;5;241m.\u001b[39m__check_state__(obs), reward, \u001b[38;5;241m-\u001b[39m\u001b[38;5;241m100\u001b[39m)\n\u001b[1;32m--> 316\u001b[0m lambdas, simplex_info \u001b[38;5;241m=\u001b[39m \u001b[38;5;28mself\u001b[39m\u001b[38;5;241m.\u001b[39mbarycentric_coordinates(obs)\n\u001b[0;32m    317\u001b[0m simplex, points_indexes \u001b[38;5;241m=\u001b[39m simplex_info  \u001b[38;5;66;03m# the points indexes for the state space and the simplex\u001b[39;00m\n\u001b[0;32m    318\u001b[0m \u001b[38;5;66;03m# assert shapes\u001b[39;00m\n",
            "File \u001b[1;32mc:\\users\\nicor\\dynamicprogramming\\src\\PolicyIteration.py:244\u001b[0m, in \u001b[0;36mPolicyIteration.barycentric_coordinates\u001b[1;34m(self, points)\u001b[0m\n\u001b[0;32m    242\u001b[0m \u001b[38;5;66;03m# recontruct the points\u001b[39;00m\n\u001b[0;32m    243\u001b[0m \u001b[38;5;28mprint\u001b[39m(A[\u001b[38;5;241m0\u001b[39m,:,:] \u001b[38;5;241m@\u001b[39m lambdas[\u001b[38;5;241m0\u001b[39m,:,:], b[\u001b[38;5;241m0\u001b[39m,:,:])\n\u001b[1;32m--> 244\u001b[0m \u001b[38;5;241m1\u001b[39m\u001b[38;5;241m/\u001b[39m\u001b[38;5;241m0\u001b[39m\n\u001b[0;32m    246\u001b[0m \u001b[38;5;66;03m# check the correct shapes for the matrices multiplication\u001b[39;00m\n\u001b[0;32m    247\u001b[0m \u001b[38;5;28;01massert\u001b[39;00m inv_A\u001b[38;5;241m.\u001b[39mshape \u001b[38;5;241m==\u001b[39m (\u001b[38;5;28mself\u001b[39m\u001b[38;5;241m.\u001b[39mnum_simplex_points, \u001b[38;5;28mself\u001b[39m\u001b[38;5;241m.\u001b[39mnum_simplex_points), \u001b[38;5;124mf\u001b[39m\u001b[38;5;124m\"\u001b[39m\u001b[38;5;124minv_A shape: \u001b[39m\u001b[38;5;132;01m{\u001b[39;00minv_A\u001b[38;5;241m.\u001b[39mshape\u001b[38;5;132;01m}\u001b[39;00m\u001b[38;5;124m\"\u001b[39m\n",
            "\u001b[1;31mZeroDivisionError\u001b[0m: division by zero"
          ]
        }
      ],
      "source": [
        "import pickle\n",
        "import tqdm\n",
        "import numpy as np\n",
        "from PolicyIteration import PolicyIteration\n",
        "from utils.utils import plot_2D_value_function,\\\n",
        "                        plot_3D_value_function,\\\n",
        "                        test_enviroment\n",
        "\n",
        "import jax.numpy as jnp\n",
        "from jax import jit\n",
        "\n",
        "from classic_control.continuous_mountain_car import Continuous_MountainCarEnv\n",
        "\n",
        "env=Continuous_MountainCarEnv()\n",
        "\n",
        "bins_space = {\n",
        "    \"x_space\":     np.linspace(env.min_position, env.max_position, 25,      dtype=np.float32),    # position space    (0)\n",
        "    \"x_dot_space\": np.linspace(-abs(env.max_speed), abs(env.max_speed), 25, dtype=np.float32),    # velocity space    (1)\n",
        "}\n",
        "\n",
        "pi = PolicyIteration(\n",
        "    env=env, \n",
        "    bins_space=bins_space,\n",
        "    action_space=np.linspace(-1.0, +1.0,9,dtype=np.float32),\n",
        "    gamma=0.99,\n",
        "    theta=1e-3,\n",
        ")\n",
        "\n",
        "\n",
        "pi.calculate_transition_reward_table()\n",
        "\n",
        "#pi.run()"
      ]
    },
    {
      "cell_type": "code",
      "execution_count": null,
      "id": "9f556b5a",
      "metadata": {},
      "outputs": [],
      "source": [
        "# Test mountain car environment:\n",
        "with open(env.__class__.__name__ + \".pkl\", \"rb\") as f:\n",
        "    pi: PolicyIteration = pickle.load(f)\n",
        "\n",
        "test_enviroment(Continuous_MountainCarEnv(render_mode=\"human\"), pi)"
      ]
    },
    {
      "cell_type": "code",
      "execution_count": null,
      "id": "80bb9473",
      "metadata": {},
      "outputs": [],
      "source": [
        "# graph the value function of the mountain car environment:\n",
        "plot_3D_value_function(pi.value_function)\n",
        "plot_2D_value_function(pi.value_function)"
      ]
    },
    {
      "cell_type": "code",
      "execution_count": null,
      "id": "166ea6b5",
      "metadata": {},
      "outputs": [],
      "source": [
        "position"
      ]
    },
    {
      "cell_type": "code",
      "execution_count": null,
      "id": "c7067abf",
      "metadata": {},
      "outputs": [],
      "source": [
        "import jax.numpy as jnp\n",
        "\n",
        "# Example array\n",
        "simplex_indexes = jnp.array([3, -1, 2, 5, -1, 4])\n",
        "\n",
        "# Get the indices where the value is -1\n",
        "indices_of_negative_one = jnp.where(simplex_indexes == -1)[0]\n",
        "\n",
        "print(indices_of_negative_one)\n"
      ]
    },
    {
      "cell_type": "code",
      "execution_count": null,
      "id": "418d705f",
      "metadata": {},
      "outputs": [],
      "source": [
        "import numpy as np\n",
        "\n",
        "# Input array\n",
        "array = np.array([\n",
        "    [[-1.2, 0.0],\n",
        "     [-1.125, -0.00583333],\n",
        "     [-1.125, 0.0]],\n",
        "\n",
        "    [[-1.2, 0.0],\n",
        "     [-1.125, -0.00583333],\n",
        "     [-1.125, 0.0]]\n",
        "])\n",
        "\n",
        "# Transpose the matrices in one go\n",
        "transposed_array = array.transpose(0, 2, 1)\n",
        "\n",
        "# Create the row of ones to be added, matching the shape (number of matrices, 1 row, number of columns)\n",
        "ones_row = np.ones((transposed_array.shape[0], 1, transposed_array.shape[2]))\n",
        "\n",
        "# Stack the transposed matrices with the row of ones along the second axis\n",
        "result = np.concatenate((transposed_array, ones_row), axis=1)\n",
        "result = np.linalg.inv(result)\n",
        "# Print the result\n",
        "print(result)\n"
      ]
    }
  ],
  "metadata": {
    "colab": {
      "include_colab_link": true,
      "provenance": []
    },
    "kernelspec": {
      "display_name": "Python 3 (ipykernel)",
      "language": "python",
      "name": "python3"
    },
    "language_info": {
      "codemirror_mode": {
        "name": "ipython",
        "version": 3
      },
      "file_extension": ".py",
      "mimetype": "text/x-python",
      "name": "python",
      "nbconvert_exporter": "python",
      "pygments_lexer": "ipython3",
      "version": "3.11.9"
    }
  },
  "nbformat": 4,
  "nbformat_minor": 5
}
