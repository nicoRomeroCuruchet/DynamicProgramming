{
  "cells": [
    {
      "cell_type": "markdown",
      "id": "b149d005",
      "metadata": {
        "colab_type": "text",
        "id": "view-in-github"
      },
      "source": [
        "<a href=\"https://colab.research.google.com/github/nicoRomeroCuruchet/DynamicProgramming/blob/main/testing_bary.ipynb\" target=\"_parent\"><img src=\"https://colab.research.google.com/assets/colab-badge.svg\" alt=\"Open In Colab\"/></a>"
      ]
    },
    {
      "cell_type": "code",
      "execution_count": null,
      "id": "002626e9",
      "metadata": {},
      "outputs": [],
      "source": [
        "import pickle\n",
        "import numpy as np\n",
        "from pathlib import Path\n",
        "from utils.utils import test_enviroment\n",
        "from PolicyIteration import PolicyIteration, PolicyIterationConfig"
      ]
    },
    {
      "cell_type": "markdown",
      "id": "3c8fe4a4",
      "metadata": {},
      "source": [
        "# CartPoleEnv \n",
        "\n",
        "### Observation Space\n",
        "\n",
        "The observation is a `ndarray` with shape `(4,)` with the values corresponding to the following positions and velocities:\n",
        "\n",
        "| Num | Observation           | Min                 | Max               |\n",
        "|-----|-----------------------|---------------------|-------------------|\n",
        "| 0   | Cart Position         | -4.8                | 4.8               |\n",
        "| 1   | Cart Velocity         | -Inf                | Inf               |\n",
        "| 2   | Pole Angle            | ~ -0.418 rad (-24°) | ~ 0.418 rad (24°) |\n",
        "| 3   | Pole Angular Velocity | -Inf                | Inf               |\n",
        "\n",
        "### Action Space\n",
        "\n",
        "The action is a `ndarray` with shape `(1,)` which can take values `{0, 1}` indicating the direction\n",
        "of the fixed force the cart is pushed with.\n",
        "\n",
        "- 0: Push cart to the left\n",
        "- 1: Push cart to the right"
      ]
    },
    {
      "cell_type": "code",
      "execution_count": null,
      "id": "a1c04b7b",
      "metadata": {},
      "outputs": [],
      "source": [
        "from classic_control.cartpole import CartPoleEnv\n",
        "\n",
        "# CartPole environment:\n",
        "env = CartPoleEnv()\n",
        "# position thresholds:\n",
        "x_lim         = 2.4\n",
        "theta_lim     = 0.418 \n",
        "# velocity thresholds:\n",
        "x_dot_lim     = 3.1\n",
        "theta_dot_lim = 3.1\n",
        "\n",
        "bins_space = {\n",
        "    \"x_space\"         : np.linspace(-x_lim, x_lim, 10,  dtype=np.float32),                     # position space          (0)\n",
        "    \"x_dot_space\"     : np.linspace(-x_dot_lim, x_dot_lim, 10,  dtype=np.float32),             # velocity space          (1)\n",
        "    \"theta_space\"     : np.linspace(-theta_lim, theta_lim, 10, dtype=np.float32),              # angle space             (2)\n",
        "    \"theta_dot_space\" : np.linspace(-theta_dot_lim, theta_dot_lim, 10, dtype=np.float32),      # angular velocity space  (3)\n",
        "}\n",
        "\n",
        "# Create a custom configuration\n",
        "custom_config = PolicyIterationConfig(\n",
        "    gamma=0.95,          # Discount factor \n",
        "    theta=1e-3,          # Convergence threshold \n",
        "    n_steps=200,         # number of iterations\n",
        "    log=True,            # Enable logging\n",
        "    log_interval=50,     # Update logging more frequently\n",
        "    img_path=Path(\"./img\")  # Custom image save directory\n",
        ")\n",
        "\n",
        "pi = PolicyIteration(\n",
        "    env=env, \n",
        "    bins_space=bins_space,\n",
        "    action_space=np.array([0, 1], dtype=np.int32),\n",
        "    config=custom_config\n",
        ")\n",
        "\n",
        "pi.run()"
      ]
    },
    {
      "cell_type": "code",
      "execution_count": null,
      "id": "0462a904",
      "metadata": {},
      "outputs": [],
      "source": [
        "# Test cartpole environment:\n",
        "pi = PolicyIteration.load(Path(\"CartPoleEnv_policy.pkl\"))\n",
        "test_enviroment(CartPoleEnv(sutton_barto_reward=True, render_mode=\"human\"), pi)"
      ]
    },
    {
      "cell_type": "markdown",
      "id": "063b6002",
      "metadata": {},
      "source": [
        "## Observation Space\n",
        "\n",
        "The observation is a `ndarray` with shape `(2,)` where the elements correspond to the following:\n",
        "\n",
        "| Num | Observation                          | Min   | Max  | Unit         |\n",
        "|-----|--------------------------------------|-------|------|--------------|\n",
        "| 0   | position of the car along the x-axis | -1.2  | 0.6  | position (m) |\n",
        "| 1   | velocity of the car                  | -0.07 | 0.07 | velocity (v) |\n",
        "\n",
        "## Action Space\n",
        "\n",
        "There are 3 discrete deterministic actions:\n",
        "\n",
        "- 0: Accelerate to the left\n",
        "- 1: Don't accelerate\n",
        "- 2: Accelerate to the right\n"
      ]
    },
    {
      "cell_type": "code",
      "execution_count": null,
      "id": "9d617686",
      "metadata": {},
      "outputs": [],
      "source": [
        "from classic_control.continuous_mountain_car import Continuous_MountainCarEnv\n",
        "env=Continuous_MountainCarEnv()\n",
        "\n",
        "bins_space = {\n",
        "    \"x_space\":     np.linspace(env.min_position, env.max_position, 100,      dtype=np.float32),    # position space    (0)\n",
        "    \"x_dot_space\": np.linspace(-abs(env.max_speed), abs(env.max_speed), 100, dtype=np.float32),    # velocity space    (1)\n",
        "}\n",
        "\n",
        "# Create a custom configuration\n",
        "custom_config = PolicyIterationConfig(\n",
        "    gamma=0.99,          # Discount factor \n",
        "    theta=1e-3,          # Convergence threshold \n",
        "    n_steps=200,         # number of iterations\n",
        "    log=True,            # Enable logging\n",
        "    log_interval=50,     # Update logging more frequently\n",
        "    img_path=Path(\"./img\")  # Custom image save directory\n",
        ")\n",
        "\n",
        "pi = PolicyIteration(\n",
        "    env=env, \n",
        "    bins_space=bins_space,\n",
        "    action_space=np.linspace(-1.0, +1.0, 9, dtype=np.float32),\n",
        "    config=custom_config\n",
        ")\n",
        "\n",
        "pi.run()"
      ]
    },
    {
      "cell_type": "code",
      "execution_count": null,
      "id": "9f556b5a",
      "metadata": {},
      "outputs": [],
      "source": [
        "# Test mountain car environment:\n",
        "pi = PolicyIteration.load(Path(\"Continuous_MountainCarEnv_policy.pkl\"))\n",
        "test_enviroment(Continuous_MountainCarEnv(render_mode=\"human\"), pi)"
      ]
    },
    {
      "cell_type": "code",
      "execution_count": null,
      "id": "5eb48836",
      "metadata": {},
      "outputs": [],
      "source": [
        "import pstats\n",
        "from pstats import SortKey\n",
        "p = pstats.Stats(\"profile-results.prof\")\n",
        "p.strip_dirs().sort_stats(SortKey.CUMULATIVE).print_stats(20)  # Top 20 functions by cumulative time"
      ]
    },
    {
      "cell_type": "code",
      "execution_count": null,
      "id": "36aa77ff",
      "metadata": {},
      "outputs": [],
      "source": [
        "import matplotlib.pyplot as plt\n",
        "\n",
        "x_size = len(pi.bins_space['x_space'])\n",
        "xdot_size = len(pi.bins_space['x_dot_space'])\n",
        "\n",
        "# Reshape the 1D value function into a 2D array\n",
        "vf_2d = pi.value_function.reshape(x_size, xdot_size)\n",
        "# normalize beetwen 0 and -1\n",
        "vf_2d = vf_2d - np.min(vf_2d)\n",
        "vf_2d = vf_2d / np.max(vf_2d)\n",
        "\n",
        "\n",
        "# Create coordinate grids for plotting\n",
        "x_values = pi.bins_space['x_space']\n",
        "xdot_values = pi.bins_space['x_dot_space']\n",
        "X, Xdot = np.meshgrid(x_values, xdot_values, indexing='ij')\n",
        "\n",
        "# vf_2d now matches X.shape (x_size, xdot_size)\n",
        "\n",
        "plt.figure(figsize=(7, 5))\n",
        "# Option A: contourf for smooth transitions\n",
        "contour = plt.contourf(Xdot, X, vf_2d, levels=50, cmap='hot_r')\n",
        "#plt.gca().invert_yaxis()\n",
        "cbar = plt.colorbar(contour)\n",
        "cbar.set_label(\"Value\")\n",
        "\n",
        "plt.xlabel(\"Position (x)\")\n",
        "plt.ylabel(\"Velocity (ẋ)\")\n",
        "plt.title(\"2D Value Function\")\n",
        "plt.show()\n"
      ]
    },
    {
      "cell_type": "code",
      "execution_count": null,
      "id": "7d4d11e4",
      "metadata": {},
      "outputs": [],
      "source": [
        "import matplotlib.pyplot as plt\n",
        "\n",
        "# After running policy iteration...\n",
        "plt.figure(figsize=(8, 5))\n",
        "plt.plot(pi.policy_convergence, marker='o', linestyle='-')\n",
        "plt.xlabel('Policy Improvement Iteration')\n",
        "plt.ylabel('Sum of Policy Changes')\n",
        "plt.title('Policy Convergence Over Iterations')\n",
        "plt.grid(True)\n",
        "plt.show()"
      ]
    },
    {
      "cell_type": "code",
      "execution_count": null,
      "id": "a0801b77",
      "metadata": {},
      "outputs": [],
      "source": [
        "import matplotlib.pyplot as plt\n",
        "\n",
        "# After running policy iteration...\n",
        "plt.figure(figsize=(8, 5))\n",
        "plt.plot(pi.delta, marker='o', linestyle='-')\n",
        "plt.xlabel('Policy Improvement Iteration')\n",
        "plt.ylabel('Sum of Policy Changes')\n",
        "plt.title('Policy Convergence Over Iterations')\n",
        "plt.grid(True)\n",
        "plt.show()"
      ]
    }
  ],
  "metadata": {
    "colab": {
      "include_colab_link": true,
      "provenance": []
    },
    "kernelspec": {
      "display_name": "DynamicProgrammingNoCuypy",
      "language": "python",
      "name": "python3"
    },
    "language_info": {
      "codemirror_mode": {
        "name": "ipython",
        "version": 3
      },
      "file_extension": ".py",
      "mimetype": "text/x-python",
      "name": "python",
      "nbconvert_exporter": "python",
      "pygments_lexer": "ipython3",
      "version": "3.11.9"
    }
  },
  "nbformat": 4,
  "nbformat_minor": 5
}
