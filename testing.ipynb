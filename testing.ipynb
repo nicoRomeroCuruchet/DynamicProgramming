{
  "cells": [
    {
      "cell_type": "markdown",
      "id": "b149d005",
      "metadata": {
        "colab_type": "text",
        "id": "view-in-github"
      },
      "source": [
        "<a href=\"https://colab.research.google.com/github/nicoRomeroCuruchet/DynamicProgramming/blob/main/testing_bary.ipynb\" target=\"_parent\"><img src=\"https://colab.research.google.com/assets/colab-badge.svg\" alt=\"Open In Colab\"/></a>"
      ]
    },
    {
      "cell_type": "code",
      "execution_count": null,
      "id": "002626e9",
      "metadata": {},
      "outputs": [],
      "source": [
        "import pickle\n",
        "import numpy as np\n",
        "from PolicyIteration import PolicyIteration\n",
        "from utils.utils import plot_2D_value_function,\\\n",
        "                        plot_3D_value_function,\\\n",
        "                        test_enviroment"
      ]
    },
    {
      "cell_type": "markdown",
      "id": "3c8fe4a4",
      "metadata": {},
      "source": [
        "# CartPoleEnv \n",
        "\n",
        "### Observation Space\n",
        "\n",
        "The observation is a `ndarray` with shape `(4,)` with the values corresponding to the following positions and velocities:\n",
        "\n",
        "| Num | Observation           | Min                 | Max               |\n",
        "|-----|-----------------------|---------------------|-------------------|\n",
        "| 0   | Cart Position         | -4.8                | 4.8               |\n",
        "| 1   | Cart Velocity         | -Inf                | Inf               |\n",
        "| 2   | Pole Angle            | ~ -0.418 rad (-24°) | ~ 0.418 rad (24°) |\n",
        "| 3   | Pole Angular Velocity | -Inf                | Inf               |\n",
        "\n",
        "### Action Space\n",
        "\n",
        "The action is a `ndarray` with shape `(1,)` which can take values `{0, 1}` indicating the direction\n",
        "of the fixed force the cart is pushed with.\n",
        "\n",
        "- 0: Push cart to the left\n",
        "- 1: Push cart to the right"
      ]
    },
    {
      "cell_type": "code",
      "execution_count": null,
      "id": "a1c04b7b",
      "metadata": {},
      "outputs": [],
      "source": [
        "# Train cartpole environment:\n",
        "\n",
        "from classic_control.cartpole import CartPoleEnv\n",
        "\n",
        "env = CartPoleEnv(sutton_barto_reward=True)\n",
        "# position thresholds:\n",
        "x_lim         = 2.4\n",
        "theta_lim     = 0.418 \n",
        "# velocity thresholds:\n",
        "x_dot_lim     = 3.1\n",
        "theta_dot_lim = 3.1\n",
        "\n",
        "bins_space = {\n",
        "    \"x_space\"         : np.linspace(-x_lim, x_lim, 10,  dtype=np.float32),                     # position space         (0)\n",
        "    \"x_dot_space\"     : np.linspace(-x_dot_lim, x_dot_lim, 7,  dtype=np.float32),              # velocity space         (1)\n",
        "    \"theta_space\"     : np.linspace(-theta_lim, theta_lim, 10, dtype=np.float32),              # angle space            (2)\n",
        "    \"theta_dot_space\" : np.linspace(-theta_dot_lim, theta_dot_lim, 7, dtype=np.float32),       # angular velocity space (3)\n",
        "}\n",
        "\n",
        "pi = PolicyIteration(\n",
        "    env=env, \n",
        "    bins_space=bins_space,\n",
        "    action_space=[0, 1],\n",
        "    gamma=0.99,\n",
        "    theta=1e-3\n",
        ")\n",
        "\n",
        "pi.run()"
      ]
    },
    {
      "cell_type": "code",
      "execution_count": null,
      "id": "0462a904",
      "metadata": {},
      "outputs": [],
      "source": [
        "# Test cartpole environment:\n",
        "\n",
        "with open(env.__class__.__name__ + \".pkl\", \"rb\") as f:\n",
        "    pi = pickle.load(f)\n",
        "\n",
        "test_enviroment(CartPoleEnv(sutton_barto_reward=True, render_mode=\"human\"), pi)"
      ]
    },
    {
      "cell_type": "markdown",
      "id": "063b6002",
      "metadata": {},
      "source": [
        "## Observation Space\n",
        "\n",
        "The observation is a `ndarray` with shape `(2,)` where the elements correspond to the following:\n",
        "\n",
        "| Num | Observation                          | Min   | Max  | Unit         |\n",
        "|-----|--------------------------------------|-------|------|--------------|\n",
        "| 0   | position of the car along the x-axis | -1.2  | 0.6  | position (m) |\n",
        "| 1   | velocity of the car                  | -0.07 | 0.07 | velocity (v) |\n",
        "\n",
        "## Action Space\n",
        "\n",
        "There are 3 discrete deterministic actions:\n",
        "\n",
        "- 0: Accelerate to the left\n",
        "- 1: Don't accelerate\n",
        "- 2: Accelerate to the right\n"
      ]
    },
    {
      "cell_type": "code",
      "execution_count": null,
      "id": "9d617686",
      "metadata": {},
      "outputs": [],
      "source": [
        "from classic_control.continuous_mountain_car import Continuous_MountainCarEnv\n",
        "\n",
        "env=Continuous_MountainCarEnv()\n",
        "\n",
        "bins_space = {\n",
        "    \"x_space\":     np.linspace(env.min_position, env.max_position,25, dtype=np.float32),      # position space    (0)\n",
        "    \"x_dot_space\": np.linspace(-abs(env.max_speed), abs(env.max_speed),25, dtype=np.float32), # velocity space    (1)\n",
        "}\n",
        "\n",
        "pi = PolicyIteration(\n",
        "    env=env, \n",
        "    bins_space=bins_space,\n",
        "    action_space=[0, 1, 2],\n",
        "    gamma=0.99,\n",
        "    theta=1e-3,\n",
        ")\n",
        "\n",
        "pi.run()"
      ]
    },
    {
      "cell_type": "code",
      "execution_count": null,
      "id": "e1c97891",
      "metadata": {},
      "outputs": [],
      "source": [
        "import numpy as np\n",
        "from scipy.spatial import KDTree\n",
        "import matplotlib.pyplot as plt \n",
        "delta = 257\n",
        "# Extract the x and y values\n",
        "x_values = np.linspace(env.min_position, env.max_position, delta)\n",
        "y_values = np.linspace(-abs(env.max_speed), abs(env.max_speed), int(delta))\n",
        "X, Y = np.meshgrid(x_values, y_values)\n",
        "cartesian_product = np.c_[X.ravel(), Y.ravel()]\n",
        "#avoid repeating the same point\n",
        "cartesian_product = np.unique(cartesian_product, axis=0)\n",
        "# Highlighted point\n",
        "highlight_point = (0.25, 0.0606981)\n",
        "\n",
        "# Create the plot\n",
        "plt.figure(figsize=(30,30))\n",
        "plt.plot(X.ravel(), Y.ravel(), 'go', label='Data Points', markersize=4)\n",
        "\n",
        "plt.plot(highlight_point[0], highlight_point[1], 'bx', label='Highlighted Point', markersize=2)\n",
        "\n",
        "tree = KDTree(np.c_[X.ravel(), Y.ravel()])\n",
        "\n",
        "dd, ii = tree.query((highlight_point[0], highlight_point[1]), k=20)\n",
        "#print(ii)\n",
        "# create a simplex\n",
        "simplex = np.c_[X.ravel()[ii], Y.ravel()[ii]]\n",
        "x_cord = simplex[0][0]\n",
        "index_x = 0\n",
        "for s in simplex:\n",
        "    if s[0] != x_cord: \n",
        "        break\n",
        "    index_x += 1\n",
        "\n",
        "#simplex = np.vstack([simplex, np.array([X.ravel()[ii][2], Y.ravel()[ii][2]])])\n",
        "simplex = np.c_[X.ravel()[ii[:2]], Y.ravel()[ii[:2]]]\n",
        "simplex = np.vstack([simplex, np.array([X.ravel()[ii[index_x]], Y.ravel()[ii[index_x]]])])\n",
        "\n",
        "# get bariocentric coordinates\n",
        "A = np.vstack([np.array(simplex).T, np.ones(len(simplex))])\n",
        "#b = np.hstack([highlight_point, [1]])\n",
        "\n",
        "# get the inverse of A\n",
        "A_inv = np.linalg.inv(A)\n",
        "\n",
        "# plot nearest neighbors\n",
        "#plt.plot(X.ravel()[ii[:2]], Y.ravel()[ii[:2]], 'yo', label='Nearest Neighbors', markersize=4)\n",
        "#plt.plot(X.ravel()[ii[index_x]], Y.ravel()[ii[index_x]], 'yo', label='Nearest Neighbors', markersize=4)\n",
        "# plot\n",
        "\n",
        "a = np.array([ 0.31875  ,  -0.07      ])\n",
        "b = np.array([ 0.31875 ,   -0.06945313])\n",
        "c = np.array ([ 0.32578125, -0.07      ])\n",
        "p = np.array([ 0.3190625 ,-0.07     ])\n",
        "plt.plot(a[0], a[1], 'ro', label='A', markersize=2)\n",
        "plt.plot(b[0], b[1], 'ro', label='B', markersize=2)\n",
        "plt.plot(c[0], c[1], 'ro', label='C', markersize=2)\n",
        "plt.plot(p[0], p[1], 'ro', label='P', markersize=5)\n",
        "\n"
      ]
    },
    {
      "cell_type": "code",
      "execution_count": null,
      "id": "9f556b5a",
      "metadata": {},
      "outputs": [],
      "source": [
        "# Test mountain car environment:\n",
        "\n",
        "with open(env.__class__.__name__ + \".pkl\", \"rb\") as f:\n",
        "    pi: PolicyIteration = pickle.load(f)\n",
        "\n",
        "test_enviroment(Continuous_MountainCarEnv(render_mode=\"human\"), pi)"
      ]
    },
    {
      "cell_type": "code",
      "execution_count": null,
      "id": "80bb9473",
      "metadata": {},
      "outputs": [],
      "source": [
        "# graph the value function of the mountain car environment:\n",
        "plot_3D_value_function(pi.value_function)\n",
        "plot_2D_value_function(pi.value_function)"
      ]
    }
  ],
  "metadata": {
    "colab": {
      "include_colab_link": true,
      "provenance": []
    },
    "kernelspec": {
      "display_name": "Python 3 (ipykernel)",
      "language": "python",
      "name": "python3"
    },
    "language_info": {
      "codemirror_mode": {
        "name": "ipython",
        "version": 3
      },
      "file_extension": ".py",
      "mimetype": "text/x-python",
      "name": "python",
      "nbconvert_exporter": "python",
      "pygments_lexer": "ipython3",
      "version": "3.11.9"
    }
  },
  "nbformat": 4,
  "nbformat_minor": 5
}
